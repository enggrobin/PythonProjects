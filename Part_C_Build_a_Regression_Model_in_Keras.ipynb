{
  "nbformat": 4,
  "nbformat_minor": 0,
  "metadata": {
    "colab": {
      "name": " Part_C_Build a Regression Model in Keras.ipynb",
      "provenance": [],
      "collapsed_sections": [],
      "authorship_tag": "ABX9TyPXlHH3uVNx4vLifk9La1EV",
      "include_colab_link": true
    },
    "kernelspec": {
      "name": "python3",
      "display_name": "Python 3"
    }
  },
  "cells": [
    {
      "cell_type": "markdown",
      "metadata": {
        "id": "view-in-github",
        "colab_type": "text"
      },
      "source": [
        "<a href=\"https://colab.research.google.com/github/enggrobin/PythonProjects/blob/master/Part_C_Build_a_Regression_Model_in_Keras.ipynb\" target=\"_parent\"><img src=\"https://colab.research.google.com/assets/colab-badge.svg\" alt=\"Open In Colab\"/></a>"
      ]
    },
    {
      "cell_type": "code",
      "metadata": {
        "id": "zmkWqdOg6QR8",
        "colab_type": "code",
        "colab": {}
      },
      "source": [
        "import pandas as pd\n",
        "import numpy as np"
      ],
      "execution_count": 0,
      "outputs": []
    },
    {
      "cell_type": "code",
      "metadata": {
        "id": "_59G3Zwp6-Nq",
        "colab_type": "code",
        "colab": {
          "resources": {
            "http://localhost:8080/nbextensions/google.colab/files.js": {
              "data": "Ly8gQ29weXJpZ2h0IDIwMTcgR29vZ2xlIExMQwovLwovLyBMaWNlbnNlZCB1bmRlciB0aGUgQXBhY2hlIExpY2Vuc2UsIFZlcnNpb24gMi4wICh0aGUgIkxpY2Vuc2UiKTsKLy8geW91IG1heSBub3QgdXNlIHRoaXMgZmlsZSBleGNlcHQgaW4gY29tcGxpYW5jZSB3aXRoIHRoZSBMaWNlbnNlLgovLyBZb3UgbWF5IG9idGFpbiBhIGNvcHkgb2YgdGhlIExpY2Vuc2UgYXQKLy8KLy8gICAgICBodHRwOi8vd3d3LmFwYWNoZS5vcmcvbGljZW5zZXMvTElDRU5TRS0yLjAKLy8KLy8gVW5sZXNzIHJlcXVpcmVkIGJ5IGFwcGxpY2FibGUgbGF3IG9yIGFncmVlZCB0byBpbiB3cml0aW5nLCBzb2Z0d2FyZQovLyBkaXN0cmlidXRlZCB1bmRlciB0aGUgTGljZW5zZSBpcyBkaXN0cmlidXRlZCBvbiBhbiAiQVMgSVMiIEJBU0lTLAovLyBXSVRIT1VUIFdBUlJBTlRJRVMgT1IgQ09ORElUSU9OUyBPRiBBTlkgS0lORCwgZWl0aGVyIGV4cHJlc3Mgb3IgaW1wbGllZC4KLy8gU2VlIHRoZSBMaWNlbnNlIGZvciB0aGUgc3BlY2lmaWMgbGFuZ3VhZ2UgZ292ZXJuaW5nIHBlcm1pc3Npb25zIGFuZAovLyBsaW1pdGF0aW9ucyB1bmRlciB0aGUgTGljZW5zZS4KCi8qKgogKiBAZmlsZW92ZXJ2aWV3IEhlbHBlcnMgZm9yIGdvb2dsZS5jb2xhYiBQeXRob24gbW9kdWxlLgogKi8KKGZ1bmN0aW9uKHNjb3BlKSB7CmZ1bmN0aW9uIHNwYW4odGV4dCwgc3R5bGVBdHRyaWJ1dGVzID0ge30pIHsKICBjb25zdCBlbGVtZW50ID0gZG9jdW1lbnQuY3JlYXRlRWxlbWVudCgnc3BhbicpOwogIGVsZW1lbnQudGV4dENvbnRlbnQgPSB0ZXh0OwogIGZvciAoY29uc3Qga2V5IG9mIE9iamVjdC5rZXlzKHN0eWxlQXR0cmlidXRlcykpIHsKICAgIGVsZW1lbnQuc3R5bGVba2V5XSA9IHN0eWxlQXR0cmlidXRlc1trZXldOwogIH0KICByZXR1cm4gZWxlbWVudDsKfQoKLy8gTWF4IG51bWJlciBvZiBieXRlcyB3aGljaCB3aWxsIGJlIHVwbG9hZGVkIGF0IGEgdGltZS4KY29uc3QgTUFYX1BBWUxPQURfU0laRSA9IDEwMCAqIDEwMjQ7Ci8vIE1heCBhbW91bnQgb2YgdGltZSB0byBibG9jayB3YWl0aW5nIGZvciB0aGUgdXNlci4KY29uc3QgRklMRV9DSEFOR0VfVElNRU9VVF9NUyA9IDMwICogMTAwMDsKCmZ1bmN0aW9uIF91cGxvYWRGaWxlcyhpbnB1dElkLCBvdXRwdXRJZCkgewogIGNvbnN0IHN0ZXBzID0gdXBsb2FkRmlsZXNTdGVwKGlucHV0SWQsIG91dHB1dElkKTsKICBjb25zdCBvdXRwdXRFbGVtZW50ID0gZG9jdW1lbnQuZ2V0RWxlbWVudEJ5SWQob3V0cHV0SWQpOwogIC8vIENhY2hlIHN0ZXBzIG9uIHRoZSBvdXRwdXRFbGVtZW50IHRvIG1ha2UgaXQgYXZhaWxhYmxlIGZvciB0aGUgbmV4dCBjYWxsCiAgLy8gdG8gdXBsb2FkRmlsZXNDb250aW51ZSBmcm9tIFB5dGhvbi4KICBvdXRwdXRFbGVtZW50LnN0ZXBzID0gc3RlcHM7CgogIHJldHVybiBfdXBsb2FkRmlsZXNDb250aW51ZShvdXRwdXRJZCk7Cn0KCi8vIFRoaXMgaXMgcm91Z2hseSBhbiBhc3luYyBnZW5lcmF0b3IgKG5vdCBzdXBwb3J0ZWQgaW4gdGhlIGJyb3dzZXIgeWV0KSwKLy8gd2hlcmUgdGhlcmUgYXJlIG11bHRpcGxlIGFzeW5jaHJvbm91cyBzdGVwcyBhbmQgdGhlIFB5dGhvbiBzaWRlIGlzIGdvaW5nCi8vIHRvIHBvbGwgZm9yIGNvbXBsZXRpb24gb2YgZWFjaCBzdGVwLgovLyBUaGlzIHVzZXMgYSBQcm9taXNlIHRvIGJsb2NrIHRoZSBweXRob24gc2lkZSBvbiBjb21wbGV0aW9uIG9mIGVhY2ggc3RlcCwKLy8gdGhlbiBwYXNzZXMgdGhlIHJlc3VsdCBvZiB0aGUgcHJldmlvdXMgc3RlcCBhcyB0aGUgaW5wdXQgdG8gdGhlIG5leHQgc3RlcC4KZnVuY3Rpb24gX3VwbG9hZEZpbGVzQ29udGludWUob3V0cHV0SWQpIHsKICBjb25zdCBvdXRwdXRFbGVtZW50ID0gZG9jdW1lbnQuZ2V0RWxlbWVudEJ5SWQob3V0cHV0SWQpOwogIGNvbnN0IHN0ZXBzID0gb3V0cHV0RWxlbWVudC5zdGVwczsKCiAgY29uc3QgbmV4dCA9IHN0ZXBzLm5leHQob3V0cHV0RWxlbWVudC5sYXN0UHJvbWlzZVZhbHVlKTsKICByZXR1cm4gUHJvbWlzZS5yZXNvbHZlKG5leHQudmFsdWUucHJvbWlzZSkudGhlbigodmFsdWUpID0+IHsKICAgIC8vIENhY2hlIHRoZSBsYXN0IHByb21pc2UgdmFsdWUgdG8gbWFrZSBpdCBhdmFpbGFibGUgdG8gdGhlIG5leHQKICAgIC8vIHN0ZXAgb2YgdGhlIGdlbmVyYXRvci4KICAgIG91dHB1dEVsZW1lbnQubGFzdFByb21pc2VWYWx1ZSA9IHZhbHVlOwogICAgcmV0dXJuIG5leHQudmFsdWUucmVzcG9uc2U7CiAgfSk7Cn0KCi8qKgogKiBHZW5lcmF0b3IgZnVuY3Rpb24gd2hpY2ggaXMgY2FsbGVkIGJldHdlZW4gZWFjaCBhc3luYyBzdGVwIG9mIHRoZSB1cGxvYWQKICogcHJvY2Vzcy4KICogQHBhcmFtIHtzdHJpbmd9IGlucHV0SWQgRWxlbWVudCBJRCBvZiB0aGUgaW5wdXQgZmlsZSBwaWNrZXIgZWxlbWVudC4KICogQHBhcmFtIHtzdHJpbmd9IG91dHB1dElkIEVsZW1lbnQgSUQgb2YgdGhlIG91dHB1dCBkaXNwbGF5LgogKiBAcmV0dXJuIHshSXRlcmFibGU8IU9iamVjdD59IEl0ZXJhYmxlIG9mIG5leHQgc3RlcHMuCiAqLwpmdW5jdGlvbiogdXBsb2FkRmlsZXNTdGVwKGlucHV0SWQsIG91dHB1dElkKSB7CiAgY29uc3QgaW5wdXRFbGVtZW50ID0gZG9jdW1lbnQuZ2V0RWxlbWVudEJ5SWQoaW5wdXRJZCk7CiAgaW5wdXRFbGVtZW50LmRpc2FibGVkID0gZmFsc2U7CgogIGNvbnN0IG91dHB1dEVsZW1lbnQgPSBkb2N1bWVudC5nZXRFbGVtZW50QnlJZChvdXRwdXRJZCk7CiAgb3V0cHV0RWxlbWVudC5pbm5lckhUTUwgPSAnJzsKCiAgY29uc3QgcGlja2VkUHJvbWlzZSA9IG5ldyBQcm9taXNlKChyZXNvbHZlKSA9PiB7CiAgICBpbnB1dEVsZW1lbnQuYWRkRXZlbnRMaXN0ZW5lcignY2hhbmdlJywgKGUpID0+IHsKICAgICAgcmVzb2x2ZShlLnRhcmdldC5maWxlcyk7CiAgICB9KTsKICB9KTsKCiAgY29uc3QgY2FuY2VsID0gZG9jdW1lbnQuY3JlYXRlRWxlbWVudCgnYnV0dG9uJyk7CiAgaW5wdXRFbGVtZW50LnBhcmVudEVsZW1lbnQuYXBwZW5kQ2hpbGQoY2FuY2VsKTsKICBjYW5jZWwudGV4dENvbnRlbnQgPSAnQ2FuY2VsIHVwbG9hZCc7CiAgY29uc3QgY2FuY2VsUHJvbWlzZSA9IG5ldyBQcm9taXNlKChyZXNvbHZlKSA9PiB7CiAgICBjYW5jZWwub25jbGljayA9ICgpID0+IHsKICAgICAgcmVzb2x2ZShudWxsKTsKICAgIH07CiAgfSk7CgogIC8vIENhbmNlbCB1cGxvYWQgaWYgdXNlciBoYXNuJ3QgcGlja2VkIGFueXRoaW5nIGluIHRpbWVvdXQuCiAgY29uc3QgdGltZW91dFByb21pc2UgPSBuZXcgUHJvbWlzZSgocmVzb2x2ZSkgPT4gewogICAgc2V0VGltZW91dCgoKSA9PiB7CiAgICAgIHJlc29sdmUobnVsbCk7CiAgICB9LCBGSUxFX0NIQU5HRV9USU1FT1VUX01TKTsKICB9KTsKCiAgLy8gV2FpdCBmb3IgdGhlIHVzZXIgdG8gcGljayB0aGUgZmlsZXMuCiAgY29uc3QgZmlsZXMgPSB5aWVsZCB7CiAgICBwcm9taXNlOiBQcm9taXNlLnJhY2UoW3BpY2tlZFByb21pc2UsIHRpbWVvdXRQcm9taXNlLCBjYW5jZWxQcm9taXNlXSksCiAgICByZXNwb25zZTogewogICAgICBhY3Rpb246ICdzdGFydGluZycsCiAgICB9CiAgfTsKCiAgaWYgKCFmaWxlcykgewogICAgcmV0dXJuIHsKICAgICAgcmVzcG9uc2U6IHsKICAgICAgICBhY3Rpb246ICdjb21wbGV0ZScsCiAgICAgIH0KICAgIH07CiAgfQoKICBjYW5jZWwucmVtb3ZlKCk7CgogIC8vIERpc2FibGUgdGhlIGlucHV0IGVsZW1lbnQgc2luY2UgZnVydGhlciBwaWNrcyBhcmUgbm90IGFsbG93ZWQuCiAgaW5wdXRFbGVtZW50LmRpc2FibGVkID0gdHJ1ZTsKCiAgZm9yIChjb25zdCBmaWxlIG9mIGZpbGVzKSB7CiAgICBjb25zdCBsaSA9IGRvY3VtZW50LmNyZWF0ZUVsZW1lbnQoJ2xpJyk7CiAgICBsaS5hcHBlbmQoc3BhbihmaWxlLm5hbWUsIHtmb250V2VpZ2h0OiAnYm9sZCd9KSk7CiAgICBsaS5hcHBlbmQoc3BhbigKICAgICAgICBgKCR7ZmlsZS50eXBlIHx8ICduL2EnfSkgLSAke2ZpbGUuc2l6ZX0gYnl0ZXMsIGAgKwogICAgICAgIGBsYXN0IG1vZGlmaWVkOiAkewogICAgICAgICAgICBmaWxlLmxhc3RNb2RpZmllZERhdGUgPyBmaWxlLmxhc3RNb2RpZmllZERhdGUudG9Mb2NhbGVEYXRlU3RyaW5nKCkgOgogICAgICAgICAgICAgICAgICAgICAgICAgICAgICAgICAgICAnbi9hJ30gLSBgKSk7CiAgICBjb25zdCBwZXJjZW50ID0gc3BhbignMCUgZG9uZScpOwogICAgbGkuYXBwZW5kQ2hpbGQocGVyY2VudCk7CgogICAgb3V0cHV0RWxlbWVudC5hcHBlbmRDaGlsZChsaSk7CgogICAgY29uc3QgZmlsZURhdGFQcm9taXNlID0gbmV3IFByb21pc2UoKHJlc29sdmUpID0+IHsKICAgICAgY29uc3QgcmVhZGVyID0gbmV3IEZpbGVSZWFkZXIoKTsKICAgICAgcmVhZGVyLm9ubG9hZCA9IChlKSA9PiB7CiAgICAgICAgcmVzb2x2ZShlLnRhcmdldC5yZXN1bHQpOwogICAgICB9OwogICAgICByZWFkZXIucmVhZEFzQXJyYXlCdWZmZXIoZmlsZSk7CiAgICB9KTsKICAgIC8vIFdhaXQgZm9yIHRoZSBkYXRhIHRvIGJlIHJlYWR5LgogICAgbGV0IGZpbGVEYXRhID0geWllbGQgewogICAgICBwcm9taXNlOiBmaWxlRGF0YVByb21pc2UsCiAgICAgIHJlc3BvbnNlOiB7CiAgICAgICAgYWN0aW9uOiAnY29udGludWUnLAogICAgICB9CiAgICB9OwoKICAgIC8vIFVzZSBhIGNodW5rZWQgc2VuZGluZyB0byBhdm9pZCBtZXNzYWdlIHNpemUgbGltaXRzLiBTZWUgYi82MjExNTY2MC4KICAgIGxldCBwb3NpdGlvbiA9IDA7CiAgICB3aGlsZSAocG9zaXRpb24gPCBmaWxlRGF0YS5ieXRlTGVuZ3RoKSB7CiAgICAgIGNvbnN0IGxlbmd0aCA9IE1hdGgubWluKGZpbGVEYXRhLmJ5dGVMZW5ndGggLSBwb3NpdGlvbiwgTUFYX1BBWUxPQURfU0laRSk7CiAgICAgIGNvbnN0IGNodW5rID0gbmV3IFVpbnQ4QXJyYXkoZmlsZURhdGEsIHBvc2l0aW9uLCBsZW5ndGgpOwogICAgICBwb3NpdGlvbiArPSBsZW5ndGg7CgogICAgICBjb25zdCBiYXNlNjQgPSBidG9hKFN0cmluZy5mcm9tQ2hhckNvZGUuYXBwbHkobnVsbCwgY2h1bmspKTsKICAgICAgeWllbGQgewogICAgICAgIHJlc3BvbnNlOiB7CiAgICAgICAgICBhY3Rpb246ICdhcHBlbmQnLAogICAgICAgICAgZmlsZTogZmlsZS5uYW1lLAogICAgICAgICAgZGF0YTogYmFzZTY0LAogICAgICAgIH0sCiAgICAgIH07CiAgICAgIHBlcmNlbnQudGV4dENvbnRlbnQgPQogICAgICAgICAgYCR7TWF0aC5yb3VuZCgocG9zaXRpb24gLyBmaWxlRGF0YS5ieXRlTGVuZ3RoKSAqIDEwMCl9JSBkb25lYDsKICAgIH0KICB9CgogIC8vIEFsbCBkb25lLgogIHlpZWxkIHsKICAgIHJlc3BvbnNlOiB7CiAgICAgIGFjdGlvbjogJ2NvbXBsZXRlJywKICAgIH0KICB9Owp9CgpzY29wZS5nb29nbGUgPSBzY29wZS5nb29nbGUgfHwge307CnNjb3BlLmdvb2dsZS5jb2xhYiA9IHNjb3BlLmdvb2dsZS5jb2xhYiB8fCB7fTsKc2NvcGUuZ29vZ2xlLmNvbGFiLl9maWxlcyA9IHsKICBfdXBsb2FkRmlsZXMsCiAgX3VwbG9hZEZpbGVzQ29udGludWUsCn07Cn0pKHNlbGYpOwo=",
              "ok": true,
              "headers": [
                [
                  "content-type",
                  "application/javascript"
                ]
              ],
              "status": 200,
              "status_text": ""
            }
          },
          "base_uri": "https://localhost:8080/",
          "height": 91
        },
        "outputId": "7e9014df-2255-4740-de84-6d9a765e150e"
      },
      "source": [
        "from google.colab import files\n",
        "\n",
        "uploaded = files.upload()\n",
        "\n",
        "for fn in uploaded.keys():\n",
        "  print('User uploaded file \"{name}\" with length {length} bytes'.format(\n",
        "      name=fn, length=len(uploaded[fn])))"
      ],
      "execution_count": 5,
      "outputs": [
        {
          "output_type": "display_data",
          "data": {
            "text/html": [
              "\n",
              "     <input type=\"file\" id=\"files-064793a3-2b7c-4f03-9ca1-6388eaa43bd2\" name=\"files[]\" multiple disabled />\n",
              "     <output id=\"result-064793a3-2b7c-4f03-9ca1-6388eaa43bd2\">\n",
              "      Upload widget is only available when the cell has been executed in the\n",
              "      current browser session. Please rerun this cell to enable.\n",
              "      </output>\n",
              "      <script src=\"/nbextensions/google.colab/files.js\"></script> "
            ],
            "text/plain": [
              "<IPython.core.display.HTML object>"
            ]
          },
          "metadata": {
            "tags": []
          }
        },
        {
          "output_type": "stream",
          "text": [
            "Saving concrete_data.csv to concrete_data.csv\n",
            "User uploaded file \"concrete_data.csv\" with length 58988 bytes\n"
          ],
          "name": "stdout"
        }
      ]
    },
    {
      "cell_type": "code",
      "metadata": {
        "id": "dlNIhjzK6r5w",
        "colab_type": "code",
        "colab": {}
      },
      "source": [
        "#imorting the data\n",
        "df = pd.read_csv(\"concrete_data.csv\")"
      ],
      "execution_count": 0,
      "outputs": []
    },
    {
      "cell_type": "code",
      "metadata": {
        "id": "5e1M-tH_6r8u",
        "colab_type": "code",
        "colab": {
          "base_uri": "https://localhost:8080/",
          "height": 204
        },
        "outputId": "bd3bc65e-368a-424b-fb40-925cc9d18400"
      },
      "source": [
        "df.head()"
      ],
      "execution_count": 4,
      "outputs": [
        {
          "output_type": "execute_result",
          "data": {
            "text/html": [
              "<div>\n",
              "<style scoped>\n",
              "    .dataframe tbody tr th:only-of-type {\n",
              "        vertical-align: middle;\n",
              "    }\n",
              "\n",
              "    .dataframe tbody tr th {\n",
              "        vertical-align: top;\n",
              "    }\n",
              "\n",
              "    .dataframe thead th {\n",
              "        text-align: right;\n",
              "    }\n",
              "</style>\n",
              "<table border=\"1\" class=\"dataframe\">\n",
              "  <thead>\n",
              "    <tr style=\"text-align: right;\">\n",
              "      <th></th>\n",
              "      <th>Cement</th>\n",
              "      <th>Blast Furnace Slag</th>\n",
              "      <th>Fly Ash</th>\n",
              "      <th>Water</th>\n",
              "      <th>Superplasticizer</th>\n",
              "      <th>Coarse Aggregate</th>\n",
              "      <th>Fine Aggregate</th>\n",
              "      <th>Age</th>\n",
              "      <th>Strength</th>\n",
              "    </tr>\n",
              "  </thead>\n",
              "  <tbody>\n",
              "    <tr>\n",
              "      <th>0</th>\n",
              "      <td>540.0</td>\n",
              "      <td>0.0</td>\n",
              "      <td>0.0</td>\n",
              "      <td>162.0</td>\n",
              "      <td>2.5</td>\n",
              "      <td>1040.0</td>\n",
              "      <td>676.0</td>\n",
              "      <td>28</td>\n",
              "      <td>79.99</td>\n",
              "    </tr>\n",
              "    <tr>\n",
              "      <th>1</th>\n",
              "      <td>540.0</td>\n",
              "      <td>0.0</td>\n",
              "      <td>0.0</td>\n",
              "      <td>162.0</td>\n",
              "      <td>2.5</td>\n",
              "      <td>1055.0</td>\n",
              "      <td>676.0</td>\n",
              "      <td>28</td>\n",
              "      <td>61.89</td>\n",
              "    </tr>\n",
              "    <tr>\n",
              "      <th>2</th>\n",
              "      <td>332.5</td>\n",
              "      <td>142.5</td>\n",
              "      <td>0.0</td>\n",
              "      <td>228.0</td>\n",
              "      <td>0.0</td>\n",
              "      <td>932.0</td>\n",
              "      <td>594.0</td>\n",
              "      <td>270</td>\n",
              "      <td>40.27</td>\n",
              "    </tr>\n",
              "    <tr>\n",
              "      <th>3</th>\n",
              "      <td>332.5</td>\n",
              "      <td>142.5</td>\n",
              "      <td>0.0</td>\n",
              "      <td>228.0</td>\n",
              "      <td>0.0</td>\n",
              "      <td>932.0</td>\n",
              "      <td>594.0</td>\n",
              "      <td>365</td>\n",
              "      <td>41.05</td>\n",
              "    </tr>\n",
              "    <tr>\n",
              "      <th>4</th>\n",
              "      <td>198.6</td>\n",
              "      <td>132.4</td>\n",
              "      <td>0.0</td>\n",
              "      <td>192.0</td>\n",
              "      <td>0.0</td>\n",
              "      <td>978.4</td>\n",
              "      <td>825.5</td>\n",
              "      <td>360</td>\n",
              "      <td>44.30</td>\n",
              "    </tr>\n",
              "  </tbody>\n",
              "</table>\n",
              "</div>"
            ],
            "text/plain": [
              "   Cement  Blast Furnace Slag  Fly Ash  ...  Fine Aggregate  Age  Strength\n",
              "0   540.0                 0.0      0.0  ...           676.0   28     79.99\n",
              "1   540.0                 0.0      0.0  ...           676.0   28     61.89\n",
              "2   332.5               142.5      0.0  ...           594.0  270     40.27\n",
              "3   332.5               142.5      0.0  ...           594.0  365     41.05\n",
              "4   198.6               132.4      0.0  ...           825.5  360     44.30\n",
              "\n",
              "[5 rows x 9 columns]"
            ]
          },
          "metadata": {
            "tags": []
          },
          "execution_count": 4
        }
      ]
    },
    {
      "cell_type": "code",
      "metadata": {
        "id": "hI--9I3d6sA4",
        "colab_type": "code",
        "colab": {
          "base_uri": "https://localhost:8080/",
          "height": 187
        },
        "outputId": "4ce885e2-0eb9-4317-ad7c-155b33f217df"
      },
      "source": [
        "#checking missing data\n",
        "df.isnull().sum()"
      ],
      "execution_count": 7,
      "outputs": [
        {
          "output_type": "execute_result",
          "data": {
            "text/plain": [
              "Cement                0\n",
              "Blast Furnace Slag    0\n",
              "Fly Ash               0\n",
              "Water                 0\n",
              "Superplasticizer      0\n",
              "Coarse Aggregate      0\n",
              "Fine Aggregate        0\n",
              "Age                   0\n",
              "Strength              0\n",
              "dtype: int64"
            ]
          },
          "metadata": {
            "tags": []
          },
          "execution_count": 7
        }
      ]
    },
    {
      "cell_type": "code",
      "metadata": {
        "id": "izH3iXUw7XeX",
        "colab_type": "code",
        "colab": {
          "base_uri": "https://localhost:8080/",
          "height": 297
        },
        "outputId": "a289c4f3-517a-4b68-a7da-e8f94937ca91"
      },
      "source": [
        "df.describe()"
      ],
      "execution_count": 6,
      "outputs": [
        {
          "output_type": "execute_result",
          "data": {
            "text/html": [
              "<div>\n",
              "<style scoped>\n",
              "    .dataframe tbody tr th:only-of-type {\n",
              "        vertical-align: middle;\n",
              "    }\n",
              "\n",
              "    .dataframe tbody tr th {\n",
              "        vertical-align: top;\n",
              "    }\n",
              "\n",
              "    .dataframe thead th {\n",
              "        text-align: right;\n",
              "    }\n",
              "</style>\n",
              "<table border=\"1\" class=\"dataframe\">\n",
              "  <thead>\n",
              "    <tr style=\"text-align: right;\">\n",
              "      <th></th>\n",
              "      <th>Cement</th>\n",
              "      <th>Blast Furnace Slag</th>\n",
              "      <th>Fly Ash</th>\n",
              "      <th>Water</th>\n",
              "      <th>Superplasticizer</th>\n",
              "      <th>Coarse Aggregate</th>\n",
              "      <th>Fine Aggregate</th>\n",
              "      <th>Age</th>\n",
              "      <th>Strength</th>\n",
              "    </tr>\n",
              "  </thead>\n",
              "  <tbody>\n",
              "    <tr>\n",
              "      <th>count</th>\n",
              "      <td>1030.000000</td>\n",
              "      <td>1030.000000</td>\n",
              "      <td>1030.000000</td>\n",
              "      <td>1030.000000</td>\n",
              "      <td>1030.000000</td>\n",
              "      <td>1030.000000</td>\n",
              "      <td>1030.000000</td>\n",
              "      <td>1030.000000</td>\n",
              "      <td>1030.000000</td>\n",
              "    </tr>\n",
              "    <tr>\n",
              "      <th>mean</th>\n",
              "      <td>281.167864</td>\n",
              "      <td>73.895825</td>\n",
              "      <td>54.188350</td>\n",
              "      <td>181.567282</td>\n",
              "      <td>6.204660</td>\n",
              "      <td>972.918932</td>\n",
              "      <td>773.580485</td>\n",
              "      <td>45.662136</td>\n",
              "      <td>35.817961</td>\n",
              "    </tr>\n",
              "    <tr>\n",
              "      <th>std</th>\n",
              "      <td>104.506364</td>\n",
              "      <td>86.279342</td>\n",
              "      <td>63.997004</td>\n",
              "      <td>21.354219</td>\n",
              "      <td>5.973841</td>\n",
              "      <td>77.753954</td>\n",
              "      <td>80.175980</td>\n",
              "      <td>63.169912</td>\n",
              "      <td>16.705742</td>\n",
              "    </tr>\n",
              "    <tr>\n",
              "      <th>min</th>\n",
              "      <td>102.000000</td>\n",
              "      <td>0.000000</td>\n",
              "      <td>0.000000</td>\n",
              "      <td>121.800000</td>\n",
              "      <td>0.000000</td>\n",
              "      <td>801.000000</td>\n",
              "      <td>594.000000</td>\n",
              "      <td>1.000000</td>\n",
              "      <td>2.330000</td>\n",
              "    </tr>\n",
              "    <tr>\n",
              "      <th>25%</th>\n",
              "      <td>192.375000</td>\n",
              "      <td>0.000000</td>\n",
              "      <td>0.000000</td>\n",
              "      <td>164.900000</td>\n",
              "      <td>0.000000</td>\n",
              "      <td>932.000000</td>\n",
              "      <td>730.950000</td>\n",
              "      <td>7.000000</td>\n",
              "      <td>23.710000</td>\n",
              "    </tr>\n",
              "    <tr>\n",
              "      <th>50%</th>\n",
              "      <td>272.900000</td>\n",
              "      <td>22.000000</td>\n",
              "      <td>0.000000</td>\n",
              "      <td>185.000000</td>\n",
              "      <td>6.400000</td>\n",
              "      <td>968.000000</td>\n",
              "      <td>779.500000</td>\n",
              "      <td>28.000000</td>\n",
              "      <td>34.445000</td>\n",
              "    </tr>\n",
              "    <tr>\n",
              "      <th>75%</th>\n",
              "      <td>350.000000</td>\n",
              "      <td>142.950000</td>\n",
              "      <td>118.300000</td>\n",
              "      <td>192.000000</td>\n",
              "      <td>10.200000</td>\n",
              "      <td>1029.400000</td>\n",
              "      <td>824.000000</td>\n",
              "      <td>56.000000</td>\n",
              "      <td>46.135000</td>\n",
              "    </tr>\n",
              "    <tr>\n",
              "      <th>max</th>\n",
              "      <td>540.000000</td>\n",
              "      <td>359.400000</td>\n",
              "      <td>200.100000</td>\n",
              "      <td>247.000000</td>\n",
              "      <td>32.200000</td>\n",
              "      <td>1145.000000</td>\n",
              "      <td>992.600000</td>\n",
              "      <td>365.000000</td>\n",
              "      <td>82.600000</td>\n",
              "    </tr>\n",
              "  </tbody>\n",
              "</table>\n",
              "</div>"
            ],
            "text/plain": [
              "            Cement  Blast Furnace Slag  ...          Age     Strength\n",
              "count  1030.000000         1030.000000  ...  1030.000000  1030.000000\n",
              "mean    281.167864           73.895825  ...    45.662136    35.817961\n",
              "std     104.506364           86.279342  ...    63.169912    16.705742\n",
              "min     102.000000            0.000000  ...     1.000000     2.330000\n",
              "25%     192.375000            0.000000  ...     7.000000    23.710000\n",
              "50%     272.900000           22.000000  ...    28.000000    34.445000\n",
              "75%     350.000000          142.950000  ...    56.000000    46.135000\n",
              "max     540.000000          359.400000  ...   365.000000    82.600000\n",
              "\n",
              "[8 rows x 9 columns]"
            ]
          },
          "metadata": {
            "tags": []
          },
          "execution_count": 6
        }
      ]
    },
    {
      "cell_type": "code",
      "metadata": {
        "id": "ON9o3rGX7XsN",
        "colab_type": "code",
        "colab": {}
      },
      "source": [
        "#Get values of Predictor(X) and Target(Y) variables :\n",
        "#normalized version of the data.\n",
        "\n",
        "X = df.drop(\"Strength\",axis=1) #Predictor\n",
        "#Recall that one way to normalize the data is by subtracting the mean from the individual predictors and dividing by the standard deviation\n",
        "X_norm  = (X-X.mean())/X.std()\n",
        "\n",
        "Y = df[\"Strength\"] #Target\n",
        "Y_norm  = (Y-Y.mean())/Y.std()\n",
        "n_cols = X.shape[1] # number of predictors"
      ],
      "execution_count": 0,
      "outputs": []
    },
    {
      "cell_type": "code",
      "metadata": {
        "id": "lM7NKOIw7Xu2",
        "colab_type": "code",
        "colab": {}
      },
      "source": [
        "# Splitting data into the train and test split\n",
        "from sklearn.model_selection import train_test_split\n",
        "\n",
        "X_train, X_test, y_train, y_test = train_test_split(X_norm, Y, test_size=0.3, random_state=42)\n"
      ],
      "execution_count": 0,
      "outputs": []
    },
    {
      "cell_type": "code",
      "metadata": {
        "id": "BeK-ayN07XzT",
        "colab_type": "code",
        "colab": {
          "base_uri": "https://localhost:8080/",
          "height": 34
        },
        "outputId": "ea437a39-e884-4dca-835c-91d5be6447f0"
      },
      "source": [
        "# Build a deep learning regression model\n",
        "\n",
        "from keras.models import Sequential\n",
        "from keras.layers import Dense\n",
        "\n",
        "model = Sequential()\n",
        "model.add(Dense(10,activation=\"relu\",input_shape=(n_cols,)))\n",
        "model.add(Dense(1))\n",
        "\n",
        "# Compile the model\n",
        "model.compile(optimizer=\"adam\",loss=\"mean_squared_error\")"
      ],
      "execution_count": 15,
      "outputs": [
        {
          "output_type": "stream",
          "text": [
            "Using TensorFlow backend.\n"
          ],
          "name": "stderr"
        }
      ]
    },
    {
      "cell_type": "code",
      "metadata": {
        "id": "fvp2UFZlC7sW",
        "colab_type": "code",
        "colab": {
          "base_uri": "https://localhost:8080/",
          "height": 1000
        },
        "outputId": "49ab2ef6-6431-49d7-e24b-96f6cf8e231d"
      },
      "source": [
        "#fit dataset into the model \n",
        "#Repeat Part B but use 100 epochs this time for training.\n",
        "model.fit(X_train,y_train,epochs=100)"
      ],
      "execution_count": 22,
      "outputs": [
        {
          "output_type": "stream",
          "text": [
            "Epoch 1/100\n",
            "721/721 [==============================] - 0s 41us/step - loss: 110.7968\n",
            "Epoch 2/100\n",
            "721/721 [==============================] - 0s 36us/step - loss: 111.9839\n",
            "Epoch 3/100\n",
            "721/721 [==============================] - 0s 46us/step - loss: 112.4537\n",
            "Epoch 4/100\n",
            "721/721 [==============================] - 0s 38us/step - loss: 110.1532\n",
            "Epoch 5/100\n",
            "721/721 [==============================] - 0s 36us/step - loss: 115.1441\n",
            "Epoch 6/100\n",
            "721/721 [==============================] - 0s 40us/step - loss: 110.2728\n",
            "Epoch 7/100\n",
            "721/721 [==============================] - 0s 39us/step - loss: 114.5702\n",
            "Epoch 8/100\n",
            "721/721 [==============================] - 0s 41us/step - loss: 109.2593\n",
            "Epoch 9/100\n",
            "721/721 [==============================] - 0s 46us/step - loss: 107.4288\n",
            "Epoch 10/100\n",
            "721/721 [==============================] - 0s 39us/step - loss: 108.6687\n",
            "Epoch 11/100\n",
            "721/721 [==============================] - 0s 41us/step - loss: 110.1312\n",
            "Epoch 12/100\n",
            "721/721 [==============================] - 0s 37us/step - loss: 112.1549\n",
            "Epoch 13/100\n",
            "721/721 [==============================] - 0s 37us/step - loss: 108.3726\n",
            "Epoch 14/100\n",
            "721/721 [==============================] - 0s 36us/step - loss: 108.3603\n",
            "Epoch 15/100\n",
            "721/721 [==============================] - 0s 37us/step - loss: 107.6521\n",
            "Epoch 16/100\n",
            "721/721 [==============================] - 0s 39us/step - loss: 116.7545\n",
            "Epoch 17/100\n",
            "721/721 [==============================] - 0s 41us/step - loss: 113.0214\n",
            "Epoch 18/100\n",
            "721/721 [==============================] - 0s 38us/step - loss: 109.4812\n",
            "Epoch 19/100\n",
            "721/721 [==============================] - 0s 44us/step - loss: 110.9489\n",
            "Epoch 20/100\n",
            "721/721 [==============================] - 0s 38us/step - loss: 106.3134\n",
            "Epoch 21/100\n",
            "721/721 [==============================] - 0s 38us/step - loss: 115.5786\n",
            "Epoch 22/100\n",
            "721/721 [==============================] - 0s 36us/step - loss: 107.8765\n",
            "Epoch 23/100\n",
            "721/721 [==============================] - 0s 44us/step - loss: 112.1416\n",
            "Epoch 24/100\n",
            "721/721 [==============================] - 0s 38us/step - loss: 112.6612\n",
            "Epoch 25/100\n",
            "721/721 [==============================] - 0s 39us/step - loss: 109.2581\n",
            "Epoch 26/100\n",
            "721/721 [==============================] - 0s 38us/step - loss: 108.1119\n",
            "Epoch 27/100\n",
            "721/721 [==============================] - 0s 37us/step - loss: 109.4866\n",
            "Epoch 28/100\n",
            "721/721 [==============================] - 0s 36us/step - loss: 107.5363\n",
            "Epoch 29/100\n",
            "721/721 [==============================] - 0s 43us/step - loss: 107.5635\n",
            "Epoch 30/100\n",
            "721/721 [==============================] - 0s 39us/step - loss: 109.1988\n",
            "Epoch 31/100\n",
            "721/721 [==============================] - 0s 37us/step - loss: 109.1189\n",
            "Epoch 32/100\n",
            "721/721 [==============================] - 0s 44us/step - loss: 111.9931\n",
            "Epoch 33/100\n",
            "721/721 [==============================] - 0s 39us/step - loss: 111.2636\n",
            "Epoch 34/100\n",
            "721/721 [==============================] - 0s 38us/step - loss: 110.5082\n",
            "Epoch 35/100\n",
            "721/721 [==============================] - 0s 40us/step - loss: 108.1908\n",
            "Epoch 36/100\n",
            "721/721 [==============================] - 0s 39us/step - loss: 109.6474\n",
            "Epoch 37/100\n",
            "721/721 [==============================] - 0s 42us/step - loss: 109.2805\n",
            "Epoch 38/100\n",
            "721/721 [==============================] - 0s 36us/step - loss: 107.2090\n",
            "Epoch 39/100\n",
            "721/721 [==============================] - 0s 38us/step - loss: 107.3545\n",
            "Epoch 40/100\n",
            "721/721 [==============================] - 0s 36us/step - loss: 108.5326\n",
            "Epoch 41/100\n",
            "721/721 [==============================] - 0s 45us/step - loss: 109.0383\n",
            "Epoch 42/100\n",
            "721/721 [==============================] - 0s 41us/step - loss: 107.8826\n",
            "Epoch 43/100\n",
            "721/721 [==============================] - 0s 38us/step - loss: 107.6505\n",
            "Epoch 44/100\n",
            "721/721 [==============================] - 0s 37us/step - loss: 109.5158\n",
            "Epoch 45/100\n",
            "721/721 [==============================] - 0s 36us/step - loss: 110.1662\n",
            "Epoch 46/100\n",
            "721/721 [==============================] - 0s 37us/step - loss: 108.6202\n",
            "Epoch 47/100\n",
            "721/721 [==============================] - 0s 37us/step - loss: 108.6689\n",
            "Epoch 48/100\n",
            "721/721 [==============================] - 0s 36us/step - loss: 110.7845\n",
            "Epoch 49/100\n",
            "721/721 [==============================] - 0s 36us/step - loss: 108.9850\n",
            "Epoch 50/100\n",
            "721/721 [==============================] - 0s 36us/step - loss: 112.3260\n",
            "Epoch 51/100\n",
            "721/721 [==============================] - 0s 42us/step - loss: 116.3777\n",
            "Epoch 52/100\n",
            "721/721 [==============================] - 0s 39us/step - loss: 109.8328\n",
            "Epoch 53/100\n",
            "721/721 [==============================] - 0s 43us/step - loss: 107.0164\n",
            "Epoch 54/100\n",
            "721/721 [==============================] - 0s 39us/step - loss: 108.4643\n",
            "Epoch 55/100\n",
            "721/721 [==============================] - 0s 38us/step - loss: 109.0485\n",
            "Epoch 56/100\n",
            "721/721 [==============================] - 0s 38us/step - loss: 107.8364\n",
            "Epoch 57/100\n",
            "721/721 [==============================] - 0s 37us/step - loss: 107.7975\n",
            "Epoch 58/100\n",
            "721/721 [==============================] - 0s 37us/step - loss: 109.9029\n",
            "Epoch 59/100\n",
            "721/721 [==============================] - 0s 39us/step - loss: 110.0157\n",
            "Epoch 60/100\n",
            "721/721 [==============================] - 0s 37us/step - loss: 115.0444\n",
            "Epoch 61/100\n",
            "721/721 [==============================] - 0s 39us/step - loss: 110.5309\n",
            "Epoch 62/100\n",
            "721/721 [==============================] - 0s 41us/step - loss: 109.1169\n",
            "Epoch 63/100\n",
            "721/721 [==============================] - 0s 50us/step - loss: 109.8930\n",
            "Epoch 64/100\n",
            "721/721 [==============================] - 0s 41us/step - loss: 109.5193\n",
            "Epoch 65/100\n",
            "721/721 [==============================] - 0s 40us/step - loss: 110.1594\n",
            "Epoch 66/100\n",
            "721/721 [==============================] - 0s 37us/step - loss: 110.2313\n",
            "Epoch 67/100\n",
            "721/721 [==============================] - 0s 37us/step - loss: 109.1593\n",
            "Epoch 68/100\n",
            "721/721 [==============================] - 0s 37us/step - loss: 108.7339\n",
            "Epoch 69/100\n",
            "721/721 [==============================] - 0s 37us/step - loss: 114.0556\n",
            "Epoch 70/100\n",
            "721/721 [==============================] - 0s 38us/step - loss: 107.8997\n",
            "Epoch 71/100\n",
            "721/721 [==============================] - 0s 38us/step - loss: 111.1836\n",
            "Epoch 72/100\n",
            "721/721 [==============================] - 0s 46us/step - loss: 109.7035\n",
            "Epoch 73/100\n",
            "721/721 [==============================] - 0s 40us/step - loss: 110.3616\n",
            "Epoch 74/100\n",
            "721/721 [==============================] - 0s 38us/step - loss: 107.9534\n",
            "Epoch 75/100\n",
            "721/721 [==============================] - 0s 37us/step - loss: 108.1690\n",
            "Epoch 76/100\n",
            "721/721 [==============================] - 0s 37us/step - loss: 108.0749\n",
            "Epoch 77/100\n",
            "721/721 [==============================] - 0s 39us/step - loss: 108.3489\n",
            "Epoch 78/100\n",
            "721/721 [==============================] - 0s 37us/step - loss: 109.1408\n",
            "Epoch 79/100\n",
            "721/721 [==============================] - 0s 39us/step - loss: 108.1179\n",
            "Epoch 80/100\n",
            "721/721 [==============================] - 0s 55us/step - loss: 110.1734\n",
            "Epoch 81/100\n",
            "721/721 [==============================] - 0s 43us/step - loss: 109.1300\n",
            "Epoch 82/100\n",
            "721/721 [==============================] - 0s 39us/step - loss: 112.6291\n",
            "Epoch 83/100\n",
            "721/721 [==============================] - 0s 37us/step - loss: 110.5509\n",
            "Epoch 84/100\n",
            "721/721 [==============================] - 0s 39us/step - loss: 108.4143\n",
            "Epoch 85/100\n",
            "721/721 [==============================] - 0s 37us/step - loss: 108.6288\n",
            "Epoch 86/100\n",
            "721/721 [==============================] - 0s 37us/step - loss: 109.0704\n",
            "Epoch 87/100\n",
            "721/721 [==============================] - 0s 37us/step - loss: 108.9236\n",
            "Epoch 88/100\n",
            "721/721 [==============================] - 0s 41us/step - loss: 107.5829\n",
            "Epoch 89/100\n",
            "721/721 [==============================] - 0s 42us/step - loss: 108.5548\n",
            "Epoch 90/100\n",
            "721/721 [==============================] - 0s 41us/step - loss: 108.0040\n",
            "Epoch 91/100\n",
            "721/721 [==============================] - 0s 39us/step - loss: 108.0926\n",
            "Epoch 92/100\n",
            "721/721 [==============================] - 0s 37us/step - loss: 107.8047\n",
            "Epoch 93/100\n",
            "721/721 [==============================] - 0s 37us/step - loss: 108.7162\n",
            "Epoch 94/100\n",
            "721/721 [==============================] - 0s 38us/step - loss: 109.7776\n",
            "Epoch 95/100\n",
            "721/721 [==============================] - 0s 37us/step - loss: 108.9478\n",
            "Epoch 96/100\n",
            "721/721 [==============================] - 0s 36us/step - loss: 107.9691\n",
            "Epoch 97/100\n",
            "721/721 [==============================] - 0s 42us/step - loss: 107.2259\n",
            "Epoch 98/100\n",
            "721/721 [==============================] - 0s 47us/step - loss: 109.7668\n",
            "Epoch 99/100\n",
            "721/721 [==============================] - 0s 39us/step - loss: 114.6643\n",
            "Epoch 100/100\n",
            "721/721 [==============================] - 0s 38us/step - loss: 107.8839\n"
          ],
          "name": "stdout"
        },
        {
          "output_type": "execute_result",
          "data": {
            "text/plain": [
              "<keras.callbacks.callbacks.History at 0x7f9c1ce9fe10>"
            ]
          },
          "metadata": {
            "tags": []
          },
          "execution_count": 22
        }
      ]
    },
    {
      "cell_type": "code",
      "metadata": {
        "id": "K23VyZ0TGS82",
        "colab_type": "code",
        "colab": {}
      },
      "source": [
        "#3. Evaluate the model on the test data\n",
        "\n",
        "y_pred = model.predict(X_test)"
      ],
      "execution_count": 0,
      "outputs": []
    },
    {
      "cell_type": "code",
      "metadata": {
        "id": "9aM7Hor-GTSG",
        "colab_type": "code",
        "colab": {
          "base_uri": "https://localhost:8080/",
          "height": 51
        },
        "outputId": "883fd83f-c9f4-4f0d-c0b3-99bce7e3a9b6"
      },
      "source": [
        "# compute the mean squared error between the predicted concrete strength and the actual concrete strength\n",
        "from sklearn.metrics import mean_squared_error\n",
        "\n",
        "mean_squared_err  = mean_squared_error(y_test,y_pred)\n",
        "\n",
        "#5. Report the mean and the standard deviation of the mean squared errors.\n",
        "\n",
        "mean_err = np.mean(mean_squared_err)\n",
        "std_err  = np.std(mean_squared_err)\n",
        "print(mean_err)\n",
        "print(std_err)"
      ],
      "execution_count": 24,
      "outputs": [
        {
          "output_type": "stream",
          "text": [
            "110.01924239095025\n",
            "0.0\n"
          ],
          "name": "stdout"
        }
      ]
    },
    {
      "cell_type": "code",
      "metadata": {
        "id": "dD1X9l1JC74W",
        "colab_type": "code",
        "colab": {}
      },
      "source": [
        "#4. Repeat steps 1 - 3, 50 times, i.e., create a list of 50 mean squared errors.\n",
        "mselist = []\n",
        "for item in range(0,50):\n",
        "  X_train, X_test, y_train, y_test = train_test_split(X, Y, test_size=0.3, random_state=item)\n",
        "  model.fit(X_train, y_train, epochs=100, verbose=0)\n",
        "  y_pred  = model.predict(X_test)\n",
        "  mse = mean_squared_error(y_test,y_pred)\n",
        "  \n",
        "  mselist.append(mse)"
      ],
      "execution_count": 0,
      "outputs": []
    },
    {
      "cell_type": "code",
      "metadata": {
        "id": "40F4VYSqNkbM",
        "colab_type": "code",
        "colab": {}
      },
      "source": [
        "mean_errors = np.array(mselist)"
      ],
      "execution_count": 0,
      "outputs": []
    },
    {
      "cell_type": "code",
      "metadata": {
        "id": "BPcR_vwuNyzy",
        "colab_type": "code",
        "colab": {
          "base_uri": "https://localhost:8080/",
          "height": 51
        },
        "outputId": "9a243318-b2cf-485b-aabd-1301c93dcd07"
      },
      "source": [
        "#5. Report the mean and the standard deviation of the mean squared errors.\n",
        "\n",
        "mean_error = np.mean(mean_errors)\n",
        "std_error  = np.std(mean_errors) \n",
        "print(mean_error)\n",
        "print(std_error)"
      ],
      "execution_count": 28,
      "outputs": [
        {
          "output_type": "stream",
          "text": [
            "113.22617660050483\n",
            "10.688274131818824\n"
          ],
          "name": "stdout"
        }
      ]
    },
    {
      "cell_type": "code",
      "metadata": {
        "id": "_4HdMBeWNy3j",
        "colab_type": "code",
        "colab": {}
      },
      "source": [
        ""
      ],
      "execution_count": 0,
      "outputs": []
    }
  ]
}